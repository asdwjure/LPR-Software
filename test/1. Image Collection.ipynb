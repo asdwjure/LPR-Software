{
 "cells": [
  {
   "cell_type": "markdown",
   "metadata": {},
   "source": [
    "# 1. Import Dependencies"
   ]
  },
  {
   "cell_type": "code",
   "execution_count": 1,
   "metadata": {},
   "outputs": [
    {
     "name": "stdout",
     "output_type": "stream",
     "text": [
      "Collecting opencv-python\n",
      "  Using cached opencv_python-4.7.0.68-cp37-abi3-win_amd64.whl (38.2 MB)\n",
      "Collecting numpy>=1.19.3\n",
      "  Downloading numpy-1.24.2-cp39-cp39-win_amd64.whl (14.9 MB)\n",
      "     ---------------------------------------- 0.0/14.9 MB ? eta -:--:--\n",
      "     ---------------------------------------- 0.1/14.9 MB 2.6 MB/s eta 0:00:06\n",
      "      --------------------------------------- 0.2/14.9 MB 2.9 MB/s eta 0:00:06\n",
      "     - -------------------------------------- 0.6/14.9 MB 5.0 MB/s eta 0:00:03\n",
      "     ---- ----------------------------------- 1.6/14.9 MB 10.3 MB/s eta 0:00:02\n",
      "     ----- ---------------------------------- 2.2/14.9 MB 10.9 MB/s eta 0:00:02\n",
      "     -------- ------------------------------- 3.1/14.9 MB 14.3 MB/s eta 0:00:01\n",
      "     -------- ------------------------------- 3.1/14.9 MB 14.3 MB/s eta 0:00:01\n",
      "     --------- ------------------------------ 3.4/14.9 MB 10.4 MB/s eta 0:00:02\n",
      "     --------------------- ------------------ 7.9/14.9 MB 20.9 MB/s eta 0:00:01\n",
      "     ---------------------- ----------------- 8.2/14.9 MB 20.9 MB/s eta 0:00:01\n",
      "     --------------------------- ----------- 10.5/14.9 MB 28.5 MB/s eta 0:00:01\n",
      "     ------------------------------- ------- 12.1/14.9 MB 34.4 MB/s eta 0:00:01\n",
      "     ------------------------------------ -- 14.1/14.9 MB 46.9 MB/s eta 0:00:01\n",
      "     --------------------------------------  14.9/14.9 MB 40.9 MB/s eta 0:00:01\n",
      "     --------------------------------------- 14.9/14.9 MB 32.8 MB/s eta 0:00:00\n",
      "Installing collected packages: numpy, opencv-python\n",
      "Successfully installed numpy-1.24.2 opencv-python-4.7.0.68\n"
     ]
    }
   ],
   "source": [
    "!pip install opencv-python"
   ]
  },
  {
   "cell_type": "code",
   "execution_count": 1,
   "metadata": {},
   "outputs": [],
   "source": [
    "# Import opencv\n",
    "import cv2 \n",
    "\n",
    "# Import uuid\n",
    "import uuid\n",
    "\n",
    "# Import Operating System\n",
    "import os\n",
    "\n",
    "# Import time\n",
    "import time"
   ]
  },
  {
   "cell_type": "markdown",
   "metadata": {},
   "source": [
    "# 2. Define Images to Collect"
   ]
  },
  {
   "cell_type": "code",
   "execution_count": 3,
   "metadata": {},
   "outputs": [],
   "source": [
    "labels = ['thumbsup', 'thumbsdown', 'ok', 'middlefinger']\n",
    "number_imgs = 5"
   ]
  },
  {
   "cell_type": "markdown",
   "metadata": {},
   "source": [
    "# 3. Setup Folders "
   ]
  },
  {
   "cell_type": "code",
   "execution_count": 4,
   "metadata": {},
   "outputs": [],
   "source": [
    "IMAGES_PATH = os.path.join('Tensorflow', 'workspace', 'images', 'collectedimages')"
   ]
  },
  {
   "cell_type": "code",
   "execution_count": 5,
   "metadata": {},
   "outputs": [],
   "source": [
    "if not os.path.exists(IMAGES_PATH):\n",
    "    if os.name == 'posix':\n",
    "        !mkdir -p {IMAGES_PATH}\n",
    "    if os.name == 'nt':\n",
    "         !mkdir {IMAGES_PATH}\n",
    "for label in labels:\n",
    "    path = os.path.join(IMAGES_PATH, label)\n",
    "    if not os.path.exists(path):\n",
    "        !mkdir {path}"
   ]
  },
  {
   "cell_type": "markdown",
   "metadata": {},
   "source": [
    "# 4. Capture Images"
   ]
  },
  {
   "cell_type": "code",
   "execution_count": 6,
   "metadata": {},
   "outputs": [
    {
     "name": "stdout",
     "output_type": "stream",
     "text": [
      "Collecting images for thumbsup\n",
      "Collecting image 0\n",
      "Collecting image 1\n",
      "Collecting image 2\n",
      "Collecting image 3\n",
      "Collecting image 4\n",
      "Collecting images for thumbsdown\n",
      "Collecting image 0\n",
      "Collecting image 1\n",
      "Collecting image 2\n",
      "Collecting image 3\n",
      "Collecting image 4\n",
      "Collecting images for ok\n",
      "Collecting image 0\n",
      "Collecting image 1\n",
      "Collecting image 2\n",
      "Collecting image 3\n",
      "Collecting image 4\n",
      "Collecting images for middlefinger\n",
      "Collecting image 0\n",
      "Collecting image 1\n",
      "Collecting image 2\n",
      "Collecting image 3\n",
      "Collecting image 4\n"
     ]
    }
   ],
   "source": [
    "for label in labels:\n",
    "    cap = cv2.VideoCapture(0)\n",
    "    print('Collecting images for {}'.format(label))\n",
    "    time.sleep(5)\n",
    "    for imgnum in range(number_imgs):\n",
    "        print('Collecting image {}'.format(imgnum))\n",
    "        ret, frame = cap.read()\n",
    "        imgname = os.path.join(IMAGES_PATH,label,label+'.'+'{}.jpg'.format(str(uuid.uuid1())))\n",
    "        cv2.imwrite(imgname, frame)\n",
    "        cv2.imshow('frame', frame)\n",
    "        time.sleep(2)\n",
    "\n",
    "        if cv2.waitKey(1) & 0xFF == ord('q'):\n",
    "            break\n",
    "cap.release()\n",
    "cv2.destroyAllWindows()"
   ]
  },
  {
   "cell_type": "markdown",
   "metadata": {},
   "source": [
    "# 5. Image Labelling"
   ]
  },
  {
   "cell_type": "code",
   "execution_count": 2,
   "metadata": {},
   "outputs": [
    {
     "name": "stdout",
     "output_type": "stream",
     "text": [
      "Collecting pyqt5\n",
      "  Using cached PyQt5-5.15.9-cp37-abi3-win_amd64.whl (6.8 MB)\n",
      "Collecting lxml\n",
      "  Downloading lxml-4.9.2-cp39-cp39-win_amd64.whl (3.9 MB)\n",
      "     ---------------------------------------- 0.0/3.9 MB ? eta -:--:--\n",
      "      --------------------------------------- 0.1/3.9 MB 3.2 MB/s eta 0:00:02\n",
      "      --------------------------------------- 0.1/3.9 MB 3.2 MB/s eta 0:00:02\n",
      "     --- ------------------------------------ 0.3/3.9 MB 2.0 MB/s eta 0:00:02\n",
      "     ----- ---------------------------------- 0.5/3.9 MB 3.0 MB/s eta 0:00:02\n",
      "     ------------- -------------------------- 1.3/3.9 MB 5.6 MB/s eta 0:00:01\n",
      "     -------------------------- ------------- 2.5/3.9 MB 9.5 MB/s eta 0:00:01\n",
      "     ---------------------------------- ----- 3.4/3.9 MB 11.4 MB/s eta 0:00:01\n",
      "     ---------------------------------------  3.9/3.9 MB 11.3 MB/s eta 0:00:01\n",
      "     ---------------------------------------- 3.9/3.9 MB 10.4 MB/s eta 0:00:00\n",
      "Collecting PyQt5-Qt5>=5.15.2\n",
      "  Using cached PyQt5_Qt5-5.15.2-py3-none-win_amd64.whl (50.1 MB)\n",
      "Collecting PyQt5-sip<13,>=12.11\n",
      "  Downloading PyQt5_sip-12.11.1-cp39-cp39-win_amd64.whl (78 kB)\n",
      "     ---------------------------------------- 0.0/78.4 kB ? eta -:--:--\n",
      "     ---------------------------------------- 78.4/78.4 kB ? eta 0:00:00\n",
      "Installing collected packages: PyQt5-Qt5, PyQt5-sip, lxml, pyqt5\n",
      "Successfully installed PyQt5-Qt5-5.15.2 PyQt5-sip-12.11.1 lxml-4.9.2 pyqt5-5.15.9\n"
     ]
    }
   ],
   "source": [
    "!pip install --upgrade pyqt5 lxml"
   ]
  },
  {
   "cell_type": "code",
   "execution_count": 2,
   "metadata": {},
   "outputs": [],
   "source": [
    "LABELIMG_PATH = os.path.join('Tensorflow', 'labelimg')"
   ]
  },
  {
   "cell_type": "code",
   "execution_count": 9,
   "metadata": {},
   "outputs": [
    {
     "name": "stderr",
     "output_type": "stream",
     "text": [
      "Cloning into 'Tensorflow\\labelimg'...\n"
     ]
    }
   ],
   "source": [
    "if not os.path.exists(LABELIMG_PATH):\n",
    "    !mkdir {LABELIMG_PATH}\n",
    "    !git clone https://github.com/tzutalin/labelImg {LABELIMG_PATH}"
   ]
  },
  {
   "cell_type": "code",
   "execution_count": 3,
   "metadata": {},
   "outputs": [],
   "source": [
    "if os.name == 'posix':\n",
    "    !make qt5py3\n",
    "if os.name =='nt':\n",
    "    !cd {LABELIMG_PATH} && pyrcc5 -o libs/resources.py resources.qrc"
   ]
  },
  {
   "cell_type": "code",
   "execution_count": 4,
   "metadata": {},
   "outputs": [
    {
     "name": "stdout",
     "output_type": "stream",
     "text": [
      "Cancel creation.\n",
      "Image:C:\\Users\\jrebernik\\Documents\\Magistrska-Software\\Tensorflow_Tutorial\\TFODCourse\\Tensorflow\\workspace\\images\\collectedimages\\plates\\IMG20230220105031.jpg -> Annotation:C:/Users/jrebernik/Documents/Magistrska-Software/Tensorflow_Tutorial/TFODCourse/Tensorflow/workspace/images/collectedimages/plates\\IMG20230220105031.xml\n",
      "Image:C:\\Users\\jrebernik\\Documents\\Magistrska-Software\\Tensorflow_Tutorial\\TFODCourse\\Tensorflow\\workspace\\images\\collectedimages\\plates\\IMG20230220105034.jpg -> Annotation:C:/Users/jrebernik/Documents/Magistrska-Software/Tensorflow_Tutorial/TFODCourse/Tensorflow/workspace/images/collectedimages/plates\\IMG20230220105034.xml\n",
      "Cancel creation.\n",
      "Image:C:\\Users\\jrebernik\\Documents\\Magistrska-Software\\Tensorflow_Tutorial\\TFODCourse\\Tensorflow\\workspace\\images\\collectedimages\\plates\\IMG20230220105037.jpg -> Annotation:C:/Users/jrebernik/Documents/Magistrska-Software/Tensorflow_Tutorial/TFODCourse/Tensorflow/workspace/images/collectedimages/plates\\IMG20230220105037.xml\n",
      "Image:C:\\Users\\jrebernik\\Documents\\Magistrska-Software\\Tensorflow_Tutorial\\TFODCourse\\Tensorflow\\workspace\\images\\collectedimages\\plates\\IMG20230220105039.jpg -> Annotation:C:/Users/jrebernik/Documents/Magistrska-Software/Tensorflow_Tutorial/TFODCourse/Tensorflow/workspace/images/collectedimages/plates\\IMG20230220105039.xml\n",
      "Image:C:\\Users\\jrebernik\\Documents\\Magistrska-Software\\Tensorflow_Tutorial\\TFODCourse\\Tensorflow\\workspace\\images\\collectedimages\\plates\\IMG20230220105039.jpg -> Annotation:C:/Users/jrebernik/Documents/Magistrska-Software/Tensorflow_Tutorial/TFODCourse/Tensorflow/workspace/images/collectedimages/plates\\IMG20230220105039.xml\n",
      "Image:C:\\Users\\jrebernik\\Documents\\Magistrska-Software\\Tensorflow_Tutorial\\TFODCourse\\Tensorflow\\workspace\\images\\collectedimages\\plates\\IMG20230220105041.jpg -> Annotation:C:/Users/jrebernik/Documents/Magistrska-Software/Tensorflow_Tutorial/TFODCourse/Tensorflow/workspace/images/collectedimages/plates\\IMG20230220105041.xml\n",
      "Image:C:\\Users\\jrebernik\\Documents\\Magistrska-Software\\Tensorflow_Tutorial\\TFODCourse\\Tensorflow\\workspace\\images\\collectedimages\\plates\\IMG20230220132529.jpg -> Annotation:C:/Users/jrebernik/Documents/Magistrska-Software/Tensorflow_Tutorial/TFODCourse/Tensorflow/workspace/images/collectedimages/plates\\IMG20230220132529.xml\n",
      "Image:C:\\Users\\jrebernik\\Documents\\Magistrska-Software\\Tensorflow_Tutorial\\TFODCourse\\Tensorflow\\workspace\\images\\collectedimages\\plates\\IMG20230220132533.jpg -> Annotation:C:/Users/jrebernik/Documents/Magistrska-Software/Tensorflow_Tutorial/TFODCourse/Tensorflow/workspace/images/collectedimages/plates\\IMG20230220132533.xml\n",
      "Image:C:\\Users\\jrebernik\\Documents\\Magistrska-Software\\Tensorflow_Tutorial\\TFODCourse\\Tensorflow\\workspace\\images\\collectedimages\\plates\\IMG20230220132536.jpg -> Annotation:C:/Users/jrebernik/Documents/Magistrska-Software/Tensorflow_Tutorial/TFODCourse/Tensorflow/workspace/images/collectedimages/plates\\IMG20230220132536.xml\n",
      "Image:C:\\Users\\jrebernik\\Documents\\Magistrska-Software\\Tensorflow_Tutorial\\TFODCourse\\Tensorflow\\workspace\\images\\collectedimages\\plates\\IMG20230220132539.jpg -> Annotation:C:/Users/jrebernik/Documents/Magistrska-Software/Tensorflow_Tutorial/TFODCourse/Tensorflow/workspace/images/collectedimages/plates\\IMG20230220132539.xml\n",
      "Image:C:\\Users\\jrebernik\\Documents\\Magistrska-Software\\Tensorflow_Tutorial\\TFODCourse\\Tensorflow\\workspace\\images\\collectedimages\\plates\\IMG20230220132542.jpg -> Annotation:C:/Users/jrebernik/Documents/Magistrska-Software/Tensorflow_Tutorial/TFODCourse/Tensorflow/workspace/images/collectedimages/plates\\IMG20230220132542.xml\n",
      "Image:C:\\Users\\jrebernik\\Documents\\Magistrska-Software\\Tensorflow_Tutorial\\TFODCourse\\Tensorflow\\workspace\\images\\collectedimages\\plates\\IMG20230220132545.jpg -> Annotation:C:/Users/jrebernik/Documents/Magistrska-Software/Tensorflow_Tutorial/TFODCourse/Tensorflow/workspace/images/collectedimages/plates\\IMG20230220132545.xml\n",
      "Image:C:\\Users\\jrebernik\\Documents\\Magistrska-Software\\Tensorflow_Tutorial\\TFODCourse\\Tensorflow\\workspace\\images\\collectedimages\\plates\\IMG20230220132548.jpg -> Annotation:C:/Users/jrebernik/Documents/Magistrska-Software/Tensorflow_Tutorial/TFODCourse/Tensorflow/workspace/images/collectedimages/plates\\IMG20230220132548.xml\n",
      "Image:C:\\Users\\jrebernik\\Documents\\Magistrska-Software\\Tensorflow_Tutorial\\TFODCourse\\Tensorflow\\workspace\\images\\collectedimages\\plates\\IMG20230220132550.jpg -> Annotation:C:/Users/jrebernik/Documents/Magistrska-Software/Tensorflow_Tutorial/TFODCourse/Tensorflow/workspace/images/collectedimages/plates\\IMG20230220132550.xml\n",
      "Image:C:\\Users\\jrebernik\\Documents\\Magistrska-Software\\Tensorflow_Tutorial\\TFODCourse\\Tensorflow\\workspace\\images\\collectedimages\\plates\\IMG20230220132554.jpg -> Annotation:C:/Users/jrebernik/Documents/Magistrska-Software/Tensorflow_Tutorial/TFODCourse/Tensorflow/workspace/images/collectedimages/plates\\IMG20230220132554.xml\n",
      "Image:C:\\Users\\jrebernik\\Documents\\Magistrska-Software\\Tensorflow_Tutorial\\TFODCourse\\Tensorflow\\workspace\\images\\collectedimages\\plates\\IMG20230220132607.jpg -> Annotation:C:/Users/jrebernik/Documents/Magistrska-Software/Tensorflow_Tutorial/TFODCourse/Tensorflow/workspace/images/collectedimages/plates\\IMG20230220132607.xml\n",
      "Image:C:\\Users\\jrebernik\\Documents\\Magistrska-Software\\Tensorflow_Tutorial\\TFODCourse\\Tensorflow\\workspace\\images\\collectedimages\\plates\\IMG20230220132612.jpg -> Annotation:C:/Users/jrebernik/Documents/Magistrska-Software/Tensorflow_Tutorial/TFODCourse/Tensorflow/workspace/images/collectedimages/plates\\IMG20230220132612.xml\n",
      "Image:C:\\Users\\jrebernik\\Documents\\Magistrska-Software\\Tensorflow_Tutorial\\TFODCourse\\Tensorflow\\workspace\\images\\collectedimages\\plates\\IMG20230220132631.jpg -> Annotation:C:/Users/jrebernik/Documents/Magistrska-Software/Tensorflow_Tutorial/TFODCourse/Tensorflow/workspace/images/collectedimages/plates\\IMG20230220132631.xml\n",
      "Image:C:\\Users\\jrebernik\\Documents\\Magistrska-Software\\Tensorflow_Tutorial\\TFODCourse\\Tensorflow\\workspace\\images\\collectedimages\\plates\\IMG20230220132637.jpg -> Annotation:C:/Users/jrebernik/Documents/Magistrska-Software/Tensorflow_Tutorial/TFODCourse/Tensorflow/workspace/images/collectedimages/plates\\IMG20230220132637.xml\n",
      "Image:C:\\Users\\jrebernik\\Documents\\Magistrska-Software\\Tensorflow_Tutorial\\TFODCourse\\Tensorflow\\workspace\\images\\collectedimages\\plates\\IMG20230220132640.jpg -> Annotation:C:/Users/jrebernik/Documents/Magistrska-Software/Tensorflow_Tutorial/TFODCourse/Tensorflow/workspace/images/collectedimages/plates\\IMG20230220132640.xml\n",
      "Image:C:\\Users\\jrebernik\\Documents\\Magistrska-Software\\Tensorflow_Tutorial\\TFODCourse\\Tensorflow\\workspace\\images\\collectedimages\\plates\\IMG20230220132647.jpg -> Annotation:C:/Users/jrebernik/Documents/Magistrska-Software/Tensorflow_Tutorial/TFODCourse/Tensorflow/workspace/images/collectedimages/plates\\IMG20230220132647.xml\n",
      "Image:C:\\Users\\jrebernik\\Documents\\Magistrska-Software\\Tensorflow_Tutorial\\TFODCourse\\Tensorflow\\workspace\\images\\collectedimages\\plates\\IMG20230220132651.jpg -> Annotation:C:/Users/jrebernik/Documents/Magistrska-Software/Tensorflow_Tutorial/TFODCourse/Tensorflow/workspace/images/collectedimages/plates\\IMG20230220132651.xml\n",
      "Image:C:\\Users\\jrebernik\\Documents\\Magistrska-Software\\Tensorflow_Tutorial\\TFODCourse\\Tensorflow\\workspace\\images\\collectedimages\\plates\\IMG20230220132655.jpg -> Annotation:C:/Users/jrebernik/Documents/Magistrska-Software/Tensorflow_Tutorial/TFODCourse/Tensorflow/workspace/images/collectedimages/plates\\IMG20230220132655.xml\n",
      "Image:C:\\Users\\jrebernik\\Documents\\Magistrska-Software\\Tensorflow_Tutorial\\TFODCourse\\Tensorflow\\workspace\\images\\collectedimages\\plates\\IMG20230220132658.jpg -> Annotation:C:/Users/jrebernik/Documents/Magistrska-Software/Tensorflow_Tutorial/TFODCourse/Tensorflow/workspace/images/collectedimages/plates\\IMG20230220132658.xml\n",
      "Image:C:\\Users\\jrebernik\\Documents\\Magistrska-Software\\Tensorflow_Tutorial\\TFODCourse\\Tensorflow\\workspace\\images\\collectedimages\\plates\\IMG20230220132702.jpg -> Annotation:C:/Users/jrebernik/Documents/Magistrska-Software/Tensorflow_Tutorial/TFODCourse/Tensorflow/workspace/images/collectedimages/plates\\IMG20230220132702.xml\n",
      "Image:C:\\Users\\jrebernik\\Documents\\Magistrska-Software\\Tensorflow_Tutorial\\TFODCourse\\Tensorflow\\workspace\\images\\collectedimages\\plates\\IMG20230220132706.jpg -> Annotation:C:/Users/jrebernik/Documents/Magistrska-Software/Tensorflow_Tutorial/TFODCourse/Tensorflow/workspace/images/collectedimages/plates\\IMG20230220132706.xml\n",
      "Image:C:\\Users\\jrebernik\\Documents\\Magistrska-Software\\Tensorflow_Tutorial\\TFODCourse\\Tensorflow\\workspace\\images\\collectedimages\\plates\\IMG20230220132710.jpg -> Annotation:C:/Users/jrebernik/Documents/Magistrska-Software/Tensorflow_Tutorial/TFODCourse/Tensorflow/workspace/images/collectedimages/plates\\IMG20230220132710.xml\n",
      "Image:C:\\Users\\jrebernik\\Documents\\Magistrska-Software\\Tensorflow_Tutorial\\TFODCourse\\Tensorflow\\workspace\\images\\collectedimages\\plates\\IMG20230220132827.jpg -> Annotation:C:/Users/jrebernik/Documents/Magistrska-Software/Tensorflow_Tutorial/TFODCourse/Tensorflow/workspace/images/collectedimages/plates\\IMG20230220132827.xml\n",
      "Image:C:\\Users\\jrebernik\\Documents\\Magistrska-Software\\Tensorflow_Tutorial\\TFODCourse\\Tensorflow\\workspace\\images\\collectedimages\\plates\\IMG20230220132830.jpg -> Annotation:C:/Users/jrebernik/Documents/Magistrska-Software/Tensorflow_Tutorial/TFODCourse/Tensorflow/workspace/images/collectedimages/plates\\IMG20230220132830.xml\n",
      "Image:C:\\Users\\jrebernik\\Documents\\Magistrska-Software\\Tensorflow_Tutorial\\TFODCourse\\Tensorflow\\workspace\\images\\collectedimages\\plates\\IMG20230220132835.jpg -> Annotation:C:/Users/jrebernik/Documents/Magistrska-Software/Tensorflow_Tutorial/TFODCourse/Tensorflow/workspace/images/collectedimages/plates\\IMG20230220132835.xml\n",
      "Image:C:\\Users\\jrebernik\\Documents\\Magistrska-Software\\Tensorflow_Tutorial\\TFODCourse\\Tensorflow\\workspace\\images\\collectedimages\\plates\\IMG20230220132835.jpg -> Annotation:C:/Users/jrebernik/Documents/Magistrska-Software/Tensorflow_Tutorial/TFODCourse/Tensorflow/workspace/images/collectedimages/plates\\IMG20230220132835.xml\n",
      "Image:C:\\Users\\jrebernik\\Documents\\Magistrska-Software\\Tensorflow_Tutorial\\TFODCourse\\Tensorflow\\workspace\\images\\collectedimages\\plates\\IMG20230220132839.jpg -> Annotation:C:/Users/jrebernik/Documents/Magistrska-Software/Tensorflow_Tutorial/TFODCourse/Tensorflow/workspace/images/collectedimages/plates\\IMG20230220132839.xml\n",
      "Image:C:\\Users\\jrebernik\\Documents\\Magistrska-Software\\Tensorflow_Tutorial\\TFODCourse\\Tensorflow\\workspace\\images\\collectedimages\\plates\\IMG20230220132859.jpg -> Annotation:C:/Users/jrebernik/Documents/Magistrska-Software/Tensorflow_Tutorial/TFODCourse/Tensorflow/workspace/images/collectedimages/plates\\IMG20230220132859.xml\n",
      "Image:C:\\Users\\jrebernik\\Documents\\Magistrska-Software\\Tensorflow_Tutorial\\TFODCourse\\Tensorflow\\workspace\\images\\collectedimages\\plates\\IMG20230220132903.jpg -> Annotation:C:/Users/jrebernik/Documents/Magistrska-Software/Tensorflow_Tutorial/TFODCourse/Tensorflow/workspace/images/collectedimages/plates\\IMG20230220132903.xml\n",
      "Image:C:\\Users\\jrebernik\\Documents\\Magistrska-Software\\Tensorflow_Tutorial\\TFODCourse\\Tensorflow\\workspace\\images\\collectedimages\\plates\\IMG20230220132908.jpg -> Annotation:C:/Users/jrebernik/Documents/Magistrska-Software/Tensorflow_Tutorial/TFODCourse/Tensorflow/workspace/images/collectedimages/plates\\IMG20230220132908.xml\n",
      "Image:C:\\Users\\jrebernik\\Documents\\Magistrska-Software\\Tensorflow_Tutorial\\TFODCourse\\Tensorflow\\workspace\\images\\collectedimages\\plates\\IMG20230220132918.jpg -> Annotation:C:/Users/jrebernik/Documents/Magistrska-Software/Tensorflow_Tutorial/TFODCourse/Tensorflow/workspace/images/collectedimages/plates\\IMG20230220132918.xml\n",
      "Image:C:\\Users\\jrebernik\\Documents\\Magistrska-Software\\Tensorflow_Tutorial\\TFODCourse\\Tensorflow\\workspace\\images\\collectedimages\\plates\\IMG20230220132921.jpg -> Annotation:C:/Users/jrebernik/Documents/Magistrska-Software/Tensorflow_Tutorial/TFODCourse/Tensorflow/workspace/images/collectedimages/plates\\IMG20230220132921.xml\n",
      "Image:C:\\Users\\jrebernik\\Documents\\Magistrska-Software\\Tensorflow_Tutorial\\TFODCourse\\Tensorflow\\workspace\\images\\collectedimages\\plates\\IMG20230220132924.jpg -> Annotation:C:/Users/jrebernik/Documents/Magistrska-Software/Tensorflow_Tutorial/TFODCourse/Tensorflow/workspace/images/collectedimages/plates\\IMG20230220132924.xml\n",
      "Image:C:\\Users\\jrebernik\\Documents\\Magistrska-Software\\Tensorflow_Tutorial\\TFODCourse\\Tensorflow\\workspace\\images\\collectedimages\\plates\\IMG20230220132928.jpg -> Annotation:C:/Users/jrebernik/Documents/Magistrska-Software/Tensorflow_Tutorial/TFODCourse/Tensorflow/workspace/images/collectedimages/plates\\IMG20230220132928.xml\n",
      "Image:C:\\Users\\jrebernik\\Documents\\Magistrska-Software\\Tensorflow_Tutorial\\TFODCourse\\Tensorflow\\workspace\\images\\collectedimages\\plates\\IMG20230220145422.jpg -> Annotation:C:/Users/jrebernik/Documents/Magistrska-Software/Tensorflow_Tutorial/TFODCourse/Tensorflow/workspace/images/collectedimages/plates\\IMG20230220145422.xml\n",
      "Image:C:\\Users\\jrebernik\\Documents\\Magistrska-Software\\Tensorflow_Tutorial\\TFODCourse\\Tensorflow\\workspace\\images\\collectedimages\\plates\\IMG20230220145425.jpg -> Annotation:C:/Users/jrebernik/Documents/Magistrska-Software/Tensorflow_Tutorial/TFODCourse/Tensorflow/workspace/images/collectedimages/plates\\IMG20230220145425.xml\n",
      "Image:C:\\Users\\jrebernik\\Documents\\Magistrska-Software\\Tensorflow_Tutorial\\TFODCourse\\Tensorflow\\workspace\\images\\collectedimages\\plates\\IMG20230220145429.jpg -> Annotation:C:/Users/jrebernik/Documents/Magistrska-Software/Tensorflow_Tutorial/TFODCourse/Tensorflow/workspace/images/collectedimages/plates\\IMG20230220145429.xml\n",
      "Image:C:\\Users\\jrebernik\\Documents\\Magistrska-Software\\Tensorflow_Tutorial\\TFODCourse\\Tensorflow\\workspace\\images\\collectedimages\\plates\\IMG20230220145432.jpg -> Annotation:C:/Users/jrebernik/Documents/Magistrska-Software/Tensorflow_Tutorial/TFODCourse/Tensorflow/workspace/images/collectedimages/plates\\IMG20230220145432.xml\n",
      "Image:C:\\Users\\jrebernik\\Documents\\Magistrska-Software\\Tensorflow_Tutorial\\TFODCourse\\Tensorflow\\workspace\\images\\collectedimages\\plates\\IMG20230220145440.jpg -> Annotation:C:/Users/jrebernik/Documents/Magistrska-Software/Tensorflow_Tutorial/TFODCourse/Tensorflow/workspace/images/collectedimages/plates\\IMG20230220145440.xml\n",
      "Image:C:\\Users\\jrebernik\\Documents\\Magistrska-Software\\Tensorflow_Tutorial\\TFODCourse\\Tensorflow\\workspace\\images\\collectedimages\\plates\\IMG20230220145445.jpg -> Annotation:C:/Users/jrebernik/Documents/Magistrska-Software/Tensorflow_Tutorial/TFODCourse/Tensorflow/workspace/images/collectedimages/plates\\IMG20230220145445.xml\n",
      "Image:C:\\Users\\jrebernik\\Documents\\Magistrska-Software\\Tensorflow_Tutorial\\TFODCourse\\Tensorflow\\workspace\\images\\collectedimages\\plates\\IMG20230220145448.jpg -> Annotation:C:/Users/jrebernik/Documents/Magistrska-Software/Tensorflow_Tutorial/TFODCourse/Tensorflow/workspace/images/collectedimages/plates\\IMG20230220145448.xml\n",
      "Image:C:\\Users\\jrebernik\\Documents\\Magistrska-Software\\Tensorflow_Tutorial\\TFODCourse\\Tensorflow\\workspace\\images\\collectedimages\\plates\\IMG20230220145448.jpg -> Annotation:C:/Users/jrebernik/Documents/Magistrska-Software/Tensorflow_Tutorial/TFODCourse/Tensorflow/workspace/images/collectedimages/plates\\IMG20230220145448.xml\n",
      "Image:C:\\Users\\jrebernik\\Documents\\Magistrska-Software\\Tensorflow_Tutorial\\TFODCourse\\Tensorflow\\workspace\\images\\collectedimages\\plates\\IMG20230220145451.jpg -> Annotation:C:/Users/jrebernik/Documents/Magistrska-Software/Tensorflow_Tutorial/TFODCourse/Tensorflow/workspace/images/collectedimages/plates\\IMG20230220145451.xml\n",
      "Image:C:\\Users\\jrebernik\\Documents\\Magistrska-Software\\Tensorflow_Tutorial\\TFODCourse\\Tensorflow\\workspace\\images\\collectedimages\\plates\\IMG20230220145500.jpg -> Annotation:C:/Users/jrebernik/Documents/Magistrska-Software/Tensorflow_Tutorial/TFODCourse/Tensorflow/workspace/images/collectedimages/plates\\IMG20230220145500.xml\n",
      "Image:C:\\Users\\jrebernik\\Documents\\Magistrska-Software\\Tensorflow_Tutorial\\TFODCourse\\Tensorflow\\workspace\\images\\collectedimages\\plates\\IMG20230220145503.jpg -> Annotation:C:/Users/jrebernik/Documents/Magistrska-Software/Tensorflow_Tutorial/TFODCourse/Tensorflow/workspace/images/collectedimages/plates\\IMG20230220145503.xml\n",
      "Image:C:\\Users\\jrebernik\\Documents\\Magistrska-Software\\Tensorflow_Tutorial\\TFODCourse\\Tensorflow\\workspace\\images\\collectedimages\\plates\\IMG20230220145507.jpg -> Annotation:C:/Users/jrebernik/Documents/Magistrska-Software/Tensorflow_Tutorial/TFODCourse/Tensorflow/workspace/images/collectedimages/plates\\IMG20230220145507.xml\n",
      "Image:C:\\Users\\jrebernik\\Documents\\Magistrska-Software\\Tensorflow_Tutorial\\TFODCourse\\Tensorflow\\workspace\\images\\collectedimages\\plates\\IMG20230220145510.jpg -> Annotation:C:/Users/jrebernik/Documents/Magistrska-Software/Tensorflow_Tutorial/TFODCourse/Tensorflow/workspace/images/collectedimages/plates\\IMG20230220145510.xml\n",
      "Image:C:\\Users\\jrebernik\\Documents\\Magistrska-Software\\Tensorflow_Tutorial\\TFODCourse\\Tensorflow\\workspace\\images\\collectedimages\\plates\\IMG20230220180029.jpg -> Annotation:C:/Users/jrebernik/Documents/Magistrska-Software/Tensorflow_Tutorial/TFODCourse/Tensorflow/workspace/images/collectedimages/plates\\IMG20230220180029.xml\n",
      "Image:C:\\Users\\jrebernik\\Documents\\Magistrska-Software\\Tensorflow_Tutorial\\TFODCourse\\Tensorflow\\workspace\\images\\collectedimages\\plates\\IMG20230220180034.jpg -> Annotation:C:/Users/jrebernik/Documents/Magistrska-Software/Tensorflow_Tutorial/TFODCourse/Tensorflow/workspace/images/collectedimages/plates\\IMG20230220180034.xml\n",
      "Image:C:\\Users\\jrebernik\\Documents\\Magistrska-Software\\Tensorflow_Tutorial\\TFODCourse\\Tensorflow\\workspace\\images\\collectedimages\\plates\\IMG20230220180038.jpg -> Annotation:C:/Users/jrebernik/Documents/Magistrska-Software/Tensorflow_Tutorial/TFODCourse/Tensorflow/workspace/images/collectedimages/plates\\IMG20230220180038.xml\n",
      "Image:C:\\Users\\jrebernik\\Documents\\Magistrska-Software\\Tensorflow_Tutorial\\TFODCourse\\Tensorflow\\workspace\\images\\collectedimages\\plates\\IMG20230220180041.jpg -> Annotation:C:/Users/jrebernik/Documents/Magistrska-Software/Tensorflow_Tutorial/TFODCourse/Tensorflow/workspace/images/collectedimages/plates\\IMG20230220180041.xml\n",
      "Image:C:\\Users\\jrebernik\\Documents\\Magistrska-Software\\Tensorflow_Tutorial\\TFODCourse\\Tensorflow\\workspace\\images\\collectedimages\\plates\\IMG20230220180045.jpg -> Annotation:C:/Users/jrebernik/Documents/Magistrska-Software/Tensorflow_Tutorial/TFODCourse/Tensorflow/workspace/images/collectedimages/plates\\IMG20230220180045.xml\n",
      "Image:C:\\Users\\jrebernik\\Documents\\Magistrska-Software\\Tensorflow_Tutorial\\TFODCourse\\Tensorflow\\workspace\\images\\collectedimages\\plates\\IMG20230220180051.jpg -> Annotation:C:/Users/jrebernik/Documents/Magistrska-Software/Tensorflow_Tutorial/TFODCourse/Tensorflow/workspace/images/collectedimages/plates\\IMG20230220180051.xml\n",
      "Image:C:\\Users\\jrebernik\\Documents\\Magistrska-Software\\Tensorflow_Tutorial\\TFODCourse\\Tensorflow\\workspace\\images\\collectedimages\\plates\\IMG20230220180054.jpg -> Annotation:C:/Users/jrebernik/Documents/Magistrska-Software/Tensorflow_Tutorial/TFODCourse/Tensorflow/workspace/images/collectedimages/plates\\IMG20230220180054.xml\n",
      "Image:C:\\Users\\jrebernik\\Documents\\Magistrska-Software\\Tensorflow_Tutorial\\TFODCourse\\Tensorflow\\workspace\\images\\collectedimages\\plates\\IMG20230220180059.jpg -> Annotation:C:/Users/jrebernik/Documents/Magistrska-Software/Tensorflow_Tutorial/TFODCourse/Tensorflow/workspace/images/collectedimages/plates\\IMG20230220180059.xml\n",
      "Image:C:\\Users\\jrebernik\\Documents\\Magistrska-Software\\Tensorflow_Tutorial\\TFODCourse\\Tensorflow\\workspace\\images\\collectedimages\\plates\\IMG20230220180105.jpg -> Annotation:C:/Users/jrebernik/Documents/Magistrska-Software/Tensorflow_Tutorial/TFODCourse/Tensorflow/workspace/images/collectedimages/plates\\IMG20230220180105.xml\n",
      "Image:C:\\Users\\jrebernik\\Documents\\Magistrska-Software\\Tensorflow_Tutorial\\TFODCourse\\Tensorflow\\workspace\\images\\collectedimages\\plates\\IMG20230220180112.jpg -> Annotation:C:/Users/jrebernik/Documents/Magistrska-Software/Tensorflow_Tutorial/TFODCourse/Tensorflow/workspace/images/collectedimages/plates\\IMG20230220180112.xml\n",
      "Image:C:\\Users\\jrebernik\\Documents\\Magistrska-Software\\Tensorflow_Tutorial\\TFODCourse\\Tensorflow\\workspace\\images\\collectedimages\\plates\\IMG20230220180116.jpg -> Annotation:C:/Users/jrebernik/Documents/Magistrska-Software/Tensorflow_Tutorial/TFODCourse/Tensorflow/workspace/images/collectedimages/plates\\IMG20230220180116.xml\n",
      "Image:C:\\Users\\jrebernik\\Documents\\Magistrska-Software\\Tensorflow_Tutorial\\TFODCourse\\Tensorflow\\workspace\\images\\collectedimages\\plates\\IMG20230220132554.jpg -> Annotation:C:/Users/jrebernik/Documents/Magistrska-Software/Tensorflow_Tutorial/TFODCourse/Tensorflow/workspace/images/collectedimages/plates\\IMG20230220132554.xml\n",
      "Image:C:\\Users\\jrebernik\\Documents\\Magistrska-Software\\Tensorflow_Tutorial\\TFODCourse\\Tensorflow\\workspace\\images\\collectedimages\\plates\\IMG20230220105037.jpg -> Annotation:C:/Users/jrebernik/Documents/Magistrska-Software/Tensorflow_Tutorial/TFODCourse/Tensorflow/workspace/images/collectedimages/plates\\IMG20230220105037.xml\n",
      "Image:C:\\Users\\jrebernik\\Documents\\Magistrska-Software\\Tensorflow_Tutorial\\TFODCourse\\Tensorflow\\workspace\\images\\collectedimages\\plates\\IMG20230220105039.jpg -> Annotation:C:/Users/jrebernik/Documents/Magistrska-Software/Tensorflow_Tutorial/TFODCourse/Tensorflow/workspace/images/collectedimages/plates\\IMG20230220105039.xml\n",
      "Image:C:\\Users\\jrebernik\\Documents\\Magistrska-Software\\Tensorflow_Tutorial\\TFODCourse\\Tensorflow\\workspace\\images\\collectedimages\\plates\\IMG20230220105034.jpg -> Annotation:C:/Users/jrebernik/Documents/Magistrska-Software/Tensorflow_Tutorial/TFODCourse/Tensorflow/workspace/images/collectedimages/plates\\IMG20230220105034.xml\n",
      "Image:C:\\Users\\jrebernik\\Documents\\Magistrska-Software\\Tensorflow_Tutorial\\TFODCourse\\Tensorflow\\workspace\\images\\collectedimages\\plates\\IMG20230220105031.jpg -> Annotation:C:/Users/jrebernik/Documents/Magistrska-Software/Tensorflow_Tutorial/TFODCourse/Tensorflow/workspace/images/collectedimages/plates\\IMG20230220105031.xml\n"
     ]
    }
   ],
   "source": [
    "!cd {LABELIMG_PATH} && python labelImg.py"
   ]
  },
  {
   "cell_type": "markdown",
   "metadata": {},
   "source": [
    "# 6. Move them into a Training and Testing Partition"
   ]
  },
  {
   "cell_type": "markdown",
   "metadata": {},
   "source": [
    "# OPTIONAL - 7. Compress them for Colab Training"
   ]
  },
  {
   "cell_type": "code",
   "execution_count": 5,
   "metadata": {},
   "outputs": [],
   "source": [
    "TRAIN_PATH = os.path.join('Tensorflow', 'workspace', 'images', 'train')\n",
    "TEST_PATH = os.path.join('Tensorflow', 'workspace', 'images', 'test')\n",
    "ARCHIVE_PATH = os.path.join('Tensorflow', 'workspace', 'images', 'archive.tar.gz')"
   ]
  },
  {
   "cell_type": "code",
   "execution_count": 6,
   "metadata": {},
   "outputs": [],
   "source": [
    "!tar -czf {ARCHIVE_PATH} {TRAIN_PATH} {TEST_PATH}"
   ]
  },
  {
   "cell_type": "code",
   "execution_count": null,
   "metadata": {},
   "outputs": [],
   "source": []
  }
 ],
 "metadata": {
  "kernelspec": {
   "display_name": "lpr_venv",
   "language": "python",
   "name": "lpr_venv"
  },
  "language_info": {
   "codemirror_mode": {
    "name": "ipython",
    "version": 3
   },
   "file_extension": ".py",
   "mimetype": "text/x-python",
   "name": "python",
   "nbconvert_exporter": "python",
   "pygments_lexer": "ipython3",
   "version": "3.9.13"
  },
  "vscode": {
   "interpreter": {
    "hash": "f30b20b266b7b4402367ca3e69dbc9884941a59dbe903647563ac2e8647abeb6"
   }
  }
 },
 "nbformat": 4,
 "nbformat_minor": 2
}
